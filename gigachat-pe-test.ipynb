{
 "cells": [
  {
   "cell_type": "markdown",
   "id": "5f050920-b6ca-4346-acb1-d9cee4a8c96f",
   "metadata": {},
   "source": [
    "# Привет! \n",
    "\n",
    "Мы рады, что вы проявили интерес к позиции **Prompt инженера**. \n",
    "\n",
    "Мы разработали тестовое задание, чтобы лучше понять ваш подход к созданию запросов (промптов), ваш уровень креативности и способность решать задачи с помощью ИИ. В этом задании вы сможете продемонстрировать, как вы подходите к созданию запросов для текстовых и визуальных моделей, а также покажете навыки их оптимизации.\n",
    "\n",
    "### Удачи!\n",
    "\n",
    "Мы с нетерпением ждем ваших ответов. Удачи в выполнении задания!\n",
    "\n",
    "\n"
   ]
  },
  {
   "cell_type": "markdown",
   "id": "0fca0c61-c081-4775-806f-5ec89538428f",
   "metadata": {},
   "source": [
    "# **<span style=\"background-color: #fff69d\">Задание</span>**\n",
    "**Описание кейса:**\n",
    "\n",
    "Музыкальная платформа стремится автоматизировать процесс оценки качества результатов поисковой выдачи треков. \n",
    "Ранее этот процесс выполнялся вручную: эксперты размечали, насколько результаты поиска соответствуют запросам пользователей. Теперь компания хочет использовать LLM для автоматической оценки релевантности и качества поисковой выдачи на основе запроса пользователя. \n",
    "\n",
    "**Цель** — разработать промпт для модели, оценивающий выдачу (результат поисковой выдачи) так же эффективно, как и эксперты.\n",
    "\n",
    "**Задачи:**\n",
    "- Изучить оценки, их описания (*[см. ниже](#инструкция)*) и валидационный сет `valid_set.tsv`.\n",
    "- Разработать промпт на модели **GigaChat-Pro** (*[инструкция по получению токена](#получениетокена)*).\n",
    "- Посчитать метрики результатов финального промпта."
   ]
  },
  {
   "cell_type": "markdown",
   "id": "5279cf8f-5abc-48f8-9c65-67f00facffe7",
   "metadata": {},
   "source": [
    "<a id=\"инструкция\"></a>\n",
    "\n",
    "# **<span style=\"background-color: #fff69d\">Оценки и их описания, которые использовались экспертами при разметке:</span>** "
   ]
  },
  {
   "cell_type": "markdown",
   "id": "35a8d38a-497b-4599-bfe4-573ddc649394",
   "metadata": {},
   "source": [
    "### **Искали именно это `vital`:**\n",
    "- Благодаря этому ответу пользователь, скорее всего, нашел, что искал. Оценку нужно выбирать, если из запроса понятно, что нужна именно эта песня и именно этого исполнителя.\n",
    "- В запросе указан только один исполнитель, а предлагаемый трек содержит несколько исполнителей (в числе которых есть запрошенный), и нет данного трека в исполнении только одного запрошенного исполнителя\n",
    "- Найдена версия трека, относящаяся к категории Идентичные.\n",
    "- Найденная версия трека совпадает с той, которую искал пользователь.\n",
    "- Запрос по тексту песни с обязательным указанием исполнителя, у показанного исполнителя только одна песня с таким текстом.\n",
    "- Искали конкретный саундтрек (песню, музыку) из конкретного фильма/мультфильма/сериала/игры, нашли нужную песню. Название фильма имеется в названии трека. Название фильма может быть написано на языке оригинала.\n",
    "\n",
    "### **Полезная поисковая выдача `rel_plus`:**\n",
    "- Ищут именно песню и именно с таким названием, но популярных версий этой песни может быть больше, чем одна.\n",
    "- Запрос не по названию песни, а по тексту или близко к смыслу тексту, который содержится в песне.\n",
    "- Запросили нескольких исполнителей без указания на конкретную песню, нашли трек в их совместном исполнении.\n",
    "- Запрос про исполнителя, нашли песню этого исполнителя (лучше было найти самого исполнителя).\n",
    "- Запрос про жанр, найдена песня в этом жанре.\n",
    "- Запрос про альбом, нашли одну из песен этого альбома (лучше было найти сам альбом).\n",
    "- В запросе указан только один исполнитель, а предлагаемый трек содержит несколько исполнителей (в числе которых есть запрошенный), и есть данный трек в исполнении только запрошенного исполнителя\n",
    "- Из запроса до конца непонятно, что именно хотел пользователь, но такую песню в принципе можно предложить\n",
    "- Запрошена конкретная версия трека, найдена другая версия этого трека из категорий Идентичные или Допустимые.\n",
    "- Искали конкретную сказку, нашли какую-то часть этой сказки.\n",
    "- Пользователь, вероятно ошибся с автором песни, но, очевидно, понятно, что пользователь хотел именно этот трек.\n",
    "- Спросили саундтрек (песню, музыку) в общем из какого-то конкретного фильма (либо сериала, мультфильма и др.), нашли один из саундтреков упомянутого фильма, название фильма имеется в названии трека. Название фильма может быть написано на языке оригинала.\n",
    "\n",
    "### **Поисковая выдача могла быть лучше `rel_minus`:**\n",
    "- Существует более популярная широко известная песня (знакомая каждому) с похожим названием\n",
    "- Просили нескольких исполнителей, нашли песню хотя бы одного из них.\n",
    "- Найдена версия трека, относящегося к категории Недопустимые, но пользователь НЕ запрашивал такую версию трека.\n",
    "- Искали конкретный саундтрек (песню, музыку) из конкретного фильма/мультфильма/сериала/игры, нашли другую песню из нужного фильма/мультфильма/сериала/игры. Название фильма имеется в названии трека. Название фильма может быть написано на языке оригинала.\n",
    "\n",
    "### **Поисковая выдача совсем не та `notreal`:**\n",
    "- Ответ бесполезен, не подходит на запрос.\n",
    "- Найден совершенно другой трек/исполнитель, не упомянутый в запросе.\n",
    "- Предложен трек другого жанра/тематики, не соответствующий запросу."
   ]
  },
  {
   "cell_type": "markdown",
   "id": "afa7abfc-6a74-4554-b964-ac6a526dc98b",
   "metadata": {},
   "source": [
    "# **<span style=\"background-color: #fff69d\">Валидационный сет и его описание</span>** "
   ]
  },
  {
   "cell_type": "markdown",
   "id": "3ce65f8d-815f-4d4f-b805-9f27eaa38e8e",
   "metadata": {},
   "source": [
    "*Прочитайте валидационный сет (`valid_set.tsv`)*\n",
    "\n",
    "- **query** - это запрос пользователя в сервис музыки;\n",
    "- **track_name** - название трека из поисковой выдачи; \n",
    "- **author** - исполнитель из поисковой выдачи; \n",
    "- **golden_answer** - верный ответ (при разработке промпта и подсчете метрик, необходимо ориентироваться на эту колонку)"
   ]
  },
  {
   "cell_type": "code",
   "execution_count": 313,
   "id": "a636d7cd-7b77-46f0-a4e5-2b6c68a926f5",
   "metadata": {},
   "outputs": [],
   "source": [
    "import pandas as pd\n",
    "import matplotlib.pyplot as plt\n",
    "from sklearn.model_selection import train_test_split\n",
    "import seaborn as sns\n",
    "import os\n",
    "from dotenv import load_dotenv\n",
    "from langchain_core.messages import HumanMessage, SystemMessage\n",
    "from langchain_gigachat import GigaChat\n",
    "from sklearn.metrics import classification_report, confusion_matrix\n",
    "from tqdm import tqdm\n",
    "import json\n",
    "import seaborn as sns\n",
    "import pickle\n",
    "import hashlib\n",
    "import re\n",
    "import time\n",
    "import re\n",
    "import requests\n"
   ]
  },
  {
   "cell_type": "code",
   "execution_count": 314,
   "id": "19bc9f9e-b11a-481f-87d4-865df38ae218",
   "metadata": {},
   "outputs": [
    {
     "name": "stdout",
     "output_type": "stream",
     "text": [
      "Dev set distribution:\n",
      " golden_answer\n",
      "rel_plus     0.369863\n",
      "vital        0.273973\n",
      "notrel       0.205479\n",
      "rel_minus    0.150685\n",
      "Name: proportion, dtype: float64\n",
      "Hold-out set distribution:\n",
      " golden_answer\n",
      "rel_plus     0.37500\n",
      "vital        0.25000\n",
      "notrel       0.21875\n",
      "rel_minus    0.15625\n",
      "Name: proportion, dtype: float64\n"
     ]
    }
   ],
   "source": [
    "# валидационный сет для разработки и дальнейшей корректировки промпта\n",
    "\n",
    "test = pd.read_csv('valid_set.tsv', sep='\\t')\n",
    "dev, hold_out = train_test_split(\n",
    "    test,\n",
    "    test_size=0.3,  \n",
    "    stratify=test['golden_answer'],\n",
    "    random_state=42\n",
    ")\n",
    "\n",
    "# Проверка распределений\n",
    "print(\"Dev set distribution:\\n\", dev['golden_answer'].value_counts(normalize=True))\n",
    "print(\"Hold-out set distribution:\\n\", hold_out['golden_answer'].value_counts(normalize=True))\n"
   ]
  },
  {
   "cell_type": "code",
   "execution_count": 315,
   "id": "1fc0ee92-1673-44a5-9bda-eb7cb26227d2",
   "metadata": {},
   "outputs": [
    {
     "data": {
      "text/html": [
       "<div>\n",
       "<style scoped>\n",
       "    .dataframe tbody tr th:only-of-type {\n",
       "        vertical-align: middle;\n",
       "    }\n",
       "\n",
       "    .dataframe tbody tr th {\n",
       "        vertical-align: top;\n",
       "    }\n",
       "\n",
       "    .dataframe thead th {\n",
       "        text-align: right;\n",
       "    }\n",
       "</style>\n",
       "<table border=\"1\" class=\"dataframe\">\n",
       "  <thead>\n",
       "    <tr style=\"text-align: right;\">\n",
       "      <th></th>\n",
       "      <th>query</th>\n",
       "      <th>track_name</th>\n",
       "      <th>author</th>\n",
       "      <th>golden_answer</th>\n",
       "    </tr>\n",
       "  </thead>\n",
       "  <tbody>\n",
       "    <tr>\n",
       "      <th>36</th>\n",
       "      <td>а моя любовь живет</td>\n",
       "      <td>Где живёт любовь моя?</td>\n",
       "      <td>Алина Атласова</td>\n",
       "      <td>notrel</td>\n",
       "    </tr>\n",
       "  </tbody>\n",
       "</table>\n",
       "</div>"
      ],
      "text/plain": [
       "                 query             track_name          author golden_answer\n",
       "36  а моя любовь живет  Где живёт любовь моя?  Алина Атласова        notrel"
      ]
     },
     "execution_count": 315,
     "metadata": {},
     "output_type": "execute_result"
    }
   ],
   "source": [
    "dev.sample()"
   ]
  },
  {
   "cell_type": "code",
   "execution_count": 316,
   "id": "14d1a64f-a440-4fbe-a691-a99385045c05",
   "metadata": {},
   "outputs": [
    {
     "name": "stdout",
     "output_type": "stream",
     "text": [
      "73\n",
      "query            0\n",
      "track_name       0\n",
      "author           0\n",
      "golden_answer    0\n",
      "dtype: int64\n",
      "0\n"
     ]
    }
   ],
   "source": [
    "print(len(dev))\n",
    "print(dev.isnull().sum())\n",
    "print(dev.duplicated().sum())"
   ]
  },
  {
   "cell_type": "code",
   "execution_count": 317,
   "id": "7df95f11-8714-4ccf-b9c8-8d7ca7ad721d",
   "metadata": {},
   "outputs": [],
   "source": [
    "dev['query_len'] = dev['query'].str.split().apply(len)\n",
    "dev['author_len'] = dev['author'].str.split(',').apply(len)"
   ]
  },
  {
   "cell_type": "code",
   "execution_count": 318,
   "id": "2bf34bce-efe0-4df8-8f97-4727e00f4165",
   "metadata": {},
   "outputs": [
    {
     "data": {
      "text/plain": [
       "golden_answer\n",
       "notrel       1.133333\n",
       "rel_minus    2.090909\n",
       "rel_plus     1.222222\n",
       "vital        1.300000\n",
       "Name: author_len, dtype: float64"
      ]
     },
     "execution_count": 318,
     "metadata": {},
     "output_type": "execute_result"
    }
   ],
   "source": [
    "dev.groupby(['golden_answer'])['author_len'].mean()"
   ]
  },
  {
   "cell_type": "code",
   "execution_count": 319,
   "id": "fd481e41-4bc8-4cf0-bef4-57f9412ac633",
   "metadata": {},
   "outputs": [
    {
     "data": {
      "text/plain": [
       "golden_answer\n",
       "notrel       4.200000\n",
       "rel_minus    3.181818\n",
       "rel_plus     2.851852\n",
       "vital        4.800000\n",
       "Name: query_len, dtype: float64"
      ]
     },
     "execution_count": 319,
     "metadata": {},
     "output_type": "execute_result"
    }
   ],
   "source": [
    "dev.groupby(['golden_answer'])['query_len'].mean()"
   ]
  },
  {
   "cell_type": "code",
   "execution_count": 320,
   "id": "c6b50ebe-b908-4356-bfe4-0de7a552f105",
   "metadata": {},
   "outputs": [
    {
     "data": {
      "text/plain": [
       "golden_answer\n",
       "rel_minus    7\n",
       "vital        5\n",
       "rel_plus     4\n",
       "notrel       1\n",
       "Name: count, dtype: int64"
      ]
     },
     "execution_count": 320,
     "metadata": {},
     "output_type": "execute_result"
    }
   ],
   "source": [
    "dev[dev['author_len'] > 1]['golden_answer'].value_counts()"
   ]
  },
  {
   "cell_type": "code",
   "execution_count": 321,
   "id": "21888666-eb9d-4c3a-a70d-4174f567b764",
   "metadata": {},
   "outputs": [
    {
     "name": "stdout",
     "output_type": "stream",
     "text": [
      "Распределение релевантности когда получаем автора, указанного в запросе:\n",
      "golden_answer\n",
      "rel_plus    8\n",
      "vital       7\n",
      "Name: count, dtype: int64\n",
      "\n",
      "Распределение релевантности когда получаем песню название которой, указанно в запросе:\n",
      "golden_answer\n",
      "vital        12\n",
      "rel_plus     10\n",
      "notrel        5\n",
      "rel_minus     1\n",
      "Name: count, dtype: int64\n",
      "\n",
      "Распределение релевантности когда оба условия совпадают:\n",
      "golden_answer\n",
      "vital       5\n",
      "rel_plus    1\n",
      "Name: count, dtype: int64\n"
     ]
    }
   ],
   "source": [
    "print('Распределение релевантности когда получаем автора, указанного в запросе:')\n",
    "dev['author_in_query'] = dev.apply(lambda x: x['author'].lower() in x['query'].lower(), axis=1)\n",
    "print(dev[dev['author_in_query'] == 1]['golden_answer'].value_counts())\n",
    "\n",
    "\n",
    "print('\\nРаспределение релевантности когда получаем песню название которой, указанно в запросе:')\n",
    "dev['name_in_query'] = dev.apply(lambda x: x['track_name'].lower() in x['query'].lower(), axis=1)\n",
    "print(dev[dev['name_in_query'] == 1]['golden_answer'].value_counts())\n",
    "\n",
    "\n",
    "print('\\nРаспределение релевантности когда оба условия совпадают:')\n",
    "print(dev[dev['name_in_query'] & dev['author_in_query']]['golden_answer'].value_counts())"
   ]
  },
  {
   "cell_type": "code",
   "execution_count": 322,
   "id": "1b1ab263-5533-4495-abb8-ac5b35c347d4",
   "metadata": {},
   "outputs": [
    {
     "name": "stdout",
     "output_type": "stream",
     "text": [
      "Распределение категорий запросов по классам:\n",
      "query_category  album  other  song  soundtrack\n",
      "golden_answer                                 \n",
      "notrel              0      5    10           0\n",
      "rel_minus           1      4     6           0\n",
      "rel_plus            1     10    15           1\n",
      "vital               0      7    13           0\n"
     ]
    }
   ],
   "source": [
    "def categorize_query(query):\n",
    "    query_lower = query.lower()\n",
    "    if re.search(r'\\b(саундтрек|музыка из|песня из|из фильма|из сериала|из игры|ost)\\b', query_lower):\n",
    "        return 'soundtrack'\n",
    "    elif re.search(r'\\b(альбом|диск|хиты|песня для|музыка для|альбом для|музыка чтобы|песня чтобы)\\b', query_lower):\n",
    "        return 'album'\n",
    "    elif re.search(r'\\b(жанр|стиль)\\b', query_lower):\n",
    "        return 'genre'\n",
    "    elif re.search(r'\\b(песня|трек|включи|поставь)\\b', query_lower):\n",
    "        return 'song'\n",
    "    else:\n",
    "        return 'other'\n",
    "\n",
    "dev['query_category'] = dev['query'].apply(categorize_query)\n",
    "print(\"Распределение категорий запросов по классам:\")\n",
    "print(pd.crosstab(dev['golden_answer'], dev['query_category']))"
   ]
  },
  {
   "cell_type": "code",
   "execution_count": 323,
   "id": "d45ab98e-6580-4c18-abf3-988dc4c79b73",
   "metadata": {},
   "outputs": [
    {
     "data": {
      "text/html": [
       "<div>\n",
       "<style scoped>\n",
       "    .dataframe tbody tr th:only-of-type {\n",
       "        vertical-align: middle;\n",
       "    }\n",
       "\n",
       "    .dataframe tbody tr th {\n",
       "        vertical-align: top;\n",
       "    }\n",
       "\n",
       "    .dataframe thead th {\n",
       "        text-align: right;\n",
       "    }\n",
       "</style>\n",
       "<table border=\"1\" class=\"dataframe\">\n",
       "  <thead>\n",
       "    <tr style=\"text-align: right;\">\n",
       "      <th></th>\n",
       "      <th>query</th>\n",
       "      <th>track_name</th>\n",
       "      <th>author</th>\n",
       "      <th>golden_answer</th>\n",
       "      <th>query_len</th>\n",
       "      <th>author_len</th>\n",
       "      <th>author_in_query</th>\n",
       "      <th>name_in_query</th>\n",
       "      <th>query_category</th>\n",
       "    </tr>\n",
       "  </thead>\n",
       "  <tbody>\n",
       "    <tr>\n",
       "      <th>38</th>\n",
       "      <td>мой друг</td>\n",
       "      <td>Мой друг</td>\n",
       "      <td>Игорь Крутой, Игорь Николаев</td>\n",
       "      <td>rel_plus</td>\n",
       "      <td>2</td>\n",
       "      <td>2</td>\n",
       "      <td>False</td>\n",
       "      <td>True</td>\n",
       "      <td>other</td>\n",
       "    </tr>\n",
       "    <tr>\n",
       "      <th>95</th>\n",
       "      <td>титаник музыка</td>\n",
       "      <td>На Титанике</td>\n",
       "      <td>Лолита,INSTASAMKA</td>\n",
       "      <td>rel_minus</td>\n",
       "      <td>2</td>\n",
       "      <td>2</td>\n",
       "      <td>False</td>\n",
       "      <td>False</td>\n",
       "      <td>other</td>\n",
       "    </tr>\n",
       "    <tr>\n",
       "      <th>82</th>\n",
       "      <td>шансон шансон</td>\n",
       "      <td>Chanson (1887)</td>\n",
       "      <td>Erik Satie</td>\n",
       "      <td>rel_minus</td>\n",
       "      <td>2</td>\n",
       "      <td>1</td>\n",
       "      <td>False</td>\n",
       "      <td>False</td>\n",
       "      <td>other</td>\n",
       "    </tr>\n",
       "    <tr>\n",
       "      <th>72</th>\n",
       "      <td>antonia amor</td>\n",
       "      <td>Amor</td>\n",
       "      <td>Antonia</td>\n",
       "      <td>vital</td>\n",
       "      <td>2</td>\n",
       "      <td>1</td>\n",
       "      <td>True</td>\n",
       "      <td>True</td>\n",
       "      <td>other</td>\n",
       "    </tr>\n",
       "    <tr>\n",
       "      <th>22</th>\n",
       "      <td>one di</td>\n",
       "      <td>Di One</td>\n",
       "      <td>Krss,Seiji</td>\n",
       "      <td>rel_minus</td>\n",
       "      <td>2</td>\n",
       "      <td>2</td>\n",
       "      <td>False</td>\n",
       "      <td>False</td>\n",
       "      <td>other</td>\n",
       "    </tr>\n",
       "  </tbody>\n",
       "</table>\n",
       "</div>"
      ],
      "text/plain": [
       "             query      track_name                        author  \\\n",
       "38        мой друг        Мой друг  Игорь Крутой, Игорь Николаев   \n",
       "95  титаник музыка     На Титанике             Лолита,INSTASAMKA   \n",
       "82   шансон шансон  Chanson (1887)                    Erik Satie   \n",
       "72    antonia amor            Amor                       Antonia   \n",
       "22          one di          Di One                    Krss,Seiji   \n",
       "\n",
       "   golden_answer  query_len  author_len  author_in_query  name_in_query  \\\n",
       "38      rel_plus          2           2            False           True   \n",
       "95     rel_minus          2           2            False          False   \n",
       "82     rel_minus          2           1            False          False   \n",
       "72         vital          2           1             True           True   \n",
       "22     rel_minus          2           2            False          False   \n",
       "\n",
       "   query_category  \n",
       "38          other  \n",
       "95          other  \n",
       "82          other  \n",
       "72          other  \n",
       "22          other  "
      ]
     },
     "execution_count": 323,
     "metadata": {},
     "output_type": "execute_result"
    }
   ],
   "source": [
    "dev[dev['query_category'] == 'other'].head()"
   ]
  },
  {
   "cell_type": "markdown",
   "id": "14137b69-f6c3-4899-8986-023144181f82",
   "metadata": {},
   "source": [
    "<a id=\"получениетокена\"></a>\n",
    "\n",
    "# **<span style=\"background-color: #fff69d\">Получение доступа для API GigaChat</span>** "
   ]
  },
  {
   "attachments": {
    "e88764bc-3bf0-4102-8f9b-5bbcca0f48bc.png": {
     "image/png": "[encoded data removed]"
    }
   },
   "cell_type": "markdown",
   "id": "3fd90c15-36ef-4fbd-9bed-58e6c9e9d3a3",
   "metadata": {},
   "source": [
    "Для того чтобы получить токен требуется зарегистрироваться и создать проект [ссылка на документацию](https://developers.sber.ru/docs/ru/gigachat/individuals-quickstart). \n",
    "\n",
    "О том как быстро получить доступ [тут](https://www.youtube.com/watch?v=HAg-GFKl1rc)\n",
    "\n",
    "\n",
    "**!!!! в credentials вставляется этот токен**\n",
    "![image.png](attachment:e88764bc-3bf0-4102-8f9b-5bbcca0f48bc.png)"
   ]
  },
  {
   "cell_type": "code",
   "execution_count": 324,
   "id": "cc9d0fe1-8ac5-46de-98eb-76736cac11ce",
   "metadata": {},
   "outputs": [],
   "source": [
    "load_dotenv()\n",
    "api_key = os.getenv(\"GIGACHAT_API_KEY\")"
   ]
  },
  {
   "cell_type": "code",
   "execution_count": 325,
   "id": "2a2af880-a8e3-4694-b6c9-7e2412ae89ba",
   "metadata": {},
   "outputs": [],
   "source": [
    "# Авторизация в GigaChat\n",
    "llm = GigaChat(\n",
    "    credentials=api_key, \n",
    "    scope=\"GIGACHAT_API_PERS\",\n",
    "    model=\"GigaChat-Pro\",\n",
    "    verify_ssl_certs=False,\n",
    "    streaming=False,\n",
    "    temperature=0.1 # Уменьшим для точных(детерменированных) ответов\n",
    ")"
   ]
  },
  {
   "cell_type": "code",
   "execution_count": 326,
   "id": "99264ae1-06f1-43a2-b66b-8d7a1ceac3de",
   "metadata": {},
   "outputs": [],
   "source": [
    "features = ['query', 'track_name', 'author']\n",
    "X_dev = dev[features]\n",
    "y_dev = dev['golden_answer']\n",
    "X_test = test[features]\n",
    "y_test = test['golden_answer']"
   ]
  },
  {
   "cell_type": "markdown",
   "id": "e9c1b75f-6a33-41f2-afe9-538cf1ae15ca",
   "metadata": {},
   "source": [
    "*Был применен RAG-подход, используя Deezer API для создания контекста. Это позволило модели проверять наличие более релевантных версий треков или исполнителей, что критично для разграничения классов `rel_plus` и `rel_minus`* \n"
   ]
  },
  {
   "cell_type": "code",
   "execution_count": 328,
   "id": "eb8dbf6a-b84c-42d2-9a08-1b242313e034",
   "metadata": {},
   "outputs": [],
   "source": [
    "def search_deezer(query, limit=3):\n",
    "    \"\"\"Ищет треки по названию/исполнителю в Deezer API.\"\"\"\n",
    "    url = \"https://api.deezer.com/search\"\n",
    "    params = {\"q\": query}\n",
    "    try:\n",
    "        time.sleep(0.5)\n",
    "        r = requests.get(url, params=params)\n",
    "        r.raise_for_status()\n",
    "        data = r.json()\n",
    "        results = []\n",
    "        for track in data.get(\"data\", [])[:limit]:\n",
    "            results.append({\n",
    "                \"title\": track[\"title\"],\n",
    "                \"artist\": track[\"artist\"][\"name\"],\n",
    "                \"album\": track[\"album\"][\"title\"]\n",
    "            })\n",
    "        return results\n",
    "    except requests.RequestException as e:\n",
    "        print(f\"Ошибка Deezer API для {query}: {e}\")\n",
    "        return ['r']\n",
    "\n",
    "def build_rag_context(track_name, author):\n",
    "    \"\"\"Строит текстовый контекст для LLM на основе поиска в Deezer по track_name и author.\"\"\"\n",
    "    # Поиск кандидатов по автору и треку\n",
    "    candidates_author = search_deezer(author, limit=3) \n",
    "    candidates_track = search_deezer(track_name, limit=3)\n",
    "    \n",
    "    context = \"\"\n",
    "    if candidates_author:\n",
    "        context += \"Кандидаты для автора {}:\\n{}\\n\".format(\n",
    "            author, \"\\n\".join([f\"{c['artist']} — {c['title']} (альбом: {c['album']})\" for c in candidates_author])\n",
    "        )\n",
    "    if candidates_track:\n",
    "        context += \"Кандидаты для трека {}:\\n{}\\n\".format(\n",
    "            track_name, \"\\n\".join([f\"{c['artist']} — {c['title']} (альбом: {c['album']})\" for c in candidates_track])\n",
    "        )\n",
    "    if not context:\n",
    "        context = \"Кандидаты не найдены.\"\n",
    "    return context"
   ]
  },
  {
   "cell_type": "markdown",
   "id": "fd7f65cb-ef0f-4043-9c81-16d7045ff60d",
   "metadata": {},
   "source": [
    "# **<span style=\"background-color: #fff69d\">Разработка промпта и генерации</span>** \n",
    "\n",
    "*Рекомендуем тестировать промпты не на всем сете, а на небольшом объеме, это сократит время на генерации. Финальный результат должен быть на всем сете.*"
   ]
  },
  {
   "cell_type": "code",
   "execution_count": 330,
   "id": "68064dec-e106-4564-8f2b-0843194d4dfb",
   "metadata": {},
   "outputs": [],
   "source": [
    "system_prompt = \"\"\"Ты — эксперт по оценке релевантности выдачи музыкальных треков по запросу пользователя. Твоя задача — классифицировать результаты поиска по четырём классам: vital, rel_plus, rel_minus, notrel.\n",
    "### Что дается:\n",
    "- Запрос пользователя: строка в которой описано что пользователь хочет послушать. В запросе может быть указан автор трека, название трека, альбом, жанр музыки, саундтрек из фильма/сказки.\n",
    "- Результат сервиса: {\"author\": \"<имя или список>\", \"track_name\": \"<название трека>\"}.\n",
    "- Контекст, который ты использеушь для проверки.\n",
    "\n",
    "Как использовать контекст:\n",
    "В контексте тебе даны: \n",
    "- Кандидаты треков \n",
    "- Кандидаты авторов\n",
    "1. Попробуй найти пересечения между словами из запроса и \"track_name\"/\"author\".\n",
    "2. Если контекст пустой — оценивай только по запросу и выдаче.\n",
    "3. Кандидат лучше, если стоит в списке кандидатов раньше.\n",
    "4. Если в контексте есть лучший кандидат в соотвествии с запросом — учитывай это при понижении класса.\n",
    "\n",
    "### Описание классов:\n",
    "- vital: ПОЛНОЕ СОВПАДЕНИЕ АВТОРА И НАЗВАНИЯ ТРЕКА с запросом. Если в запросе указан конкретный саундтрек, его название должно входить в название трека. В контексте нет лучшего варианта. \n",
    "- rel_plus: есть сильное совпадение (точный автор или ≥50% названия) либо жанр/источник, но в контексте есть лучший кандидат.\n",
    "- rel_minus: слабое совпадение (часть имени или названия, <50%), либо совпадает жанр/источник, но связь неочевидна, либо есть заметно лучший кандидат.\n",
    "- notrel: В запросе были указаны название и автор, но в выдаче другое название или автор. Также если выдача совсем не совпадает с запросом - notrel.\n",
    "\n",
    "### Действуй по алогритму:\n",
    "1. Определи в запросе наличие автора, названия трека, альбома, жанра, упоминаний фильмов/игр.\n",
    "2. Если указан и автор, и название трека:\n",
    "   - Полное совпадение то vital (если в контексте нет лучшего кандидата, включая случай с меньшим количеством авторов).\n",
    "   - Любое расхождение в авторе или названии то notrel.\n",
    "3. Если указан только автор:\n",
    "   - Один и тот же автор в выдаче и в запросе то rel_plus, несколько авторов в выдаче то rel_minus.\n",
    "4. Если указано только название трека:\n",
    "   - Совпадение - оцени контекст, при лучшем кандидате в контексте — rel_plus, иначе rel_minus.\n",
    "5. Если в запросе жанр, настроение или упомянут источник (фильм, игра):\n",
    "   - Если трек отражает этот критерий и нет лучшего кандидата то rel_plus, иначе rel_minus.\n",
    "6. Если выдача очень сильно отличается от запроса - notrel.\n",
    "\n",
    "### Примеры:\n",
    "1. Запрос: \"включи песню алмазы на шее топовский\" Трек: \"Алмазы на шее\", Автор: \"Топовский\"  {\"label\": \"vital\"}\n",
    "2. Запрос: \"включи песню алмазы на шее топовский\" Трек: \"Алмазы на шее\", Автор: \"Топовский, Дмитрий\"  {\"label\": \"rel_plus\"}\n",
    "3. Запрос: \"включи песню алмазы на шее топовский\" Трек: \"Алмазы на шее Remix\", Автор: \"Топовский, Дмитрий\"  {\"label\": \"rel_minus\"}\n",
    "4. Запрос: \"включи песню алмазы на шее топовский\" Трек: \"Алмазы на шее \", Автор: \"DJ Иван\" {\"label\": \"rel_minus\"}\n",
    "5. Запрос: \"включи исполнителя vavan\", Трек: \"АМУР\", Автор: \"Vavan, Лилая\" {\"label\": \"rel_minus\"}\n",
    "6. Запрос: \"включи исполнителя vavan\", Трек: \"АМУР\", Автор: \"Vavan\" {\"label\": \"rel_plus\"}\n",
    "7. Запрос: \"включи поп 70-х\", Трек: \"Рок 90-х\", Автор: \"Pop\" {\"label\": \"notrel\"}\n",
    "8. Запрос: \"музыка маша\" Трек: \"Маша\", Автор: \"Николай Анисимов\t\"  {\"label\": \"rel_minus\"}\n",
    "9. Запрос: \"включи исполнителя vavan\", Трек: \"АМУР\", Автор: \"Vavan, Лилая\" {\"label\": \"rel_minus\"}\n",
    "10. Запрос: \"вектор а напоследок\" Трек: \"А напоследок я скажу\", Автор: \"Валентина Пономарёва\"  {\"label\": \"notrel\"}\n",
    "Отвечай строго в формате JSON: {\"label\": \"<CLASS>\"}\"\"\".strip()"
   ]
  },
  {
   "cell_type": "code",
   "execution_count": 331,
   "id": "15fe2d05-24f9-4c4b-ba13-879abe8f5536",
   "metadata": {},
   "outputs": [
    {
     "name": "stderr",
     "output_type": "stream",
     "text": [
      "100%|████████████████████████████████████████████████████████████████████████████████| 105/105 [03:49<00:00,  2.18s/it]\n"
     ]
    }
   ],
   "source": [
    "def generate_predictions_with_prompts(X_dev, system_prompt, cache_file, llm):\n",
    "    if os.path.exists(cache_file):\n",
    "        with open(cache_file, 'rb') as f:\n",
    "            cache = pickle.load(f)\n",
    "    else:\n",
    "        cache = {}\n",
    "    \n",
    "    results = []\n",
    "\n",
    "    for _, row in tqdm(X_dev.iterrows(), total=len(X_dev)):\n",
    "        key = hashlib.md5(f\"{row['track_name']}_{row['author']}\".encode()).hexdigest()\n",
    "        context = build_rag_context(row['track_name'], row['author'])\n",
    "        \n",
    "        # Формируем user_prompt\n",
    "        user_prompt = f\"\"\"\n",
    "        Запрос: {row['query']}\n",
    "        Трек: {row['track_name']}\n",
    "        Автор: {row['author']}\n",
    "        ### Контекст из поиска:\n",
    "        {context}\n",
    "        \"\"\".strip()\n",
    "\n",
    "        if key in cache:\n",
    "            pred_json = cache[key]\n",
    "        else:\n",
    "            messages = [\n",
    "                SystemMessage(content=system_prompt),\n",
    "                HumanMessage(content=user_prompt)\n",
    "            ]\n",
    "            try:\n",
    "                response = llm.invoke(messages)\n",
    "                pred_json = json.loads(response.content)['label'].strip().lower()\n",
    "                cache[key] = pred_json\n",
    "            except:\n",
    "                pred_json = 'notrel'\n",
    "\n",
    "        results.append({\n",
    "            \"query\": row['query'],\n",
    "            \"track_name\": row['track_name'],\n",
    "            \"author\": row['author'],\n",
    "            \"user_prompt\": user_prompt,\n",
    "            \"predicted\": pred_json\n",
    "        })\n",
    "\n",
    "    # Сохраняем кэш в файл\n",
    "    # Чтобы при следующем запуске функции:\n",
    "    # 1) не делать лишние запросы к LLM для уже обработанных треков,\n",
    "    # 2) хранить метки отдельно для разных комбинаций system_prompt + user_prompt,\n",
    "    \n",
    "    with open(cache_file, 'wb') as f:\n",
    "        pickle.dump(cache, f)\n",
    "    \n",
    "    return pd.DataFrame(results)\n",
    "\n",
    "\n",
    "# Генерация и сохранение\n",
    "df_results = generate_predictions_with_prompts(X_test, system_prompt, 'prediction_cache_final.pkl', llm)\n",
    "df_results.to_csv('predictions_with_prompts.tsv', sep='\\t', index=False)\n"
   ]
  },
  {
   "cell_type": "markdown",
   "id": "4d6ca18d-ac9a-44e2-9475-252b0b328463",
   "metadata": {},
   "source": [
    "# **<span style=\"background-color: #fff69d\">Метрики</span>**\n",
    "\n",
    "Посчитайте метрики для финального результата. Метрику(и) определите самостоятельно. "
   ]
  },
  {
   "cell_type": "markdown",
   "id": "39de739c-dd4c-4b3f-9910-4ab8c1c8c242",
   "metadata": {},
   "source": [
    "## Метрики и интерпретация\n",
    "\n",
    "Для оценки качества использовались **precision**, **recall**, **F1-score**, **accuracy** и **confusion matrix**.\n",
    "\n",
    "- **Precision** показывает точность классификации по каждому классу.  \n",
    "- **Recall** отражает полноту нахождения объектов нужного класса.  \n",
    "- **F1-score** балансирует precision и recall, что полезно при сравнении версий промптов.  \n",
    "- **Accuracy** даёт общее представление о доле верных ответов.  \n",
    "- **Confusion matrix** наглядно показывает, какие классы модель чаще путает.\n",
    "\n",
    "### Интерпретация\n",
    "\n",
    "- **notrel** — низкий recall (0.36) означает, что модель часто не распознаёт нерелевантные треки, принимая их за rel_minus.  \n",
    "- **rel_minus** — низкая точность (0.41) указывает на большое количество неверных присвоений, главным образом из-за путаницы с rel_plus и notrel.  \n",
    "- **rel_plus** — показатели относительно сбалансированы, но заметны взаимные ошибки с rel_minus.  \n",
    "- **vital** — высокая точность и полнота (F1 = 0.87) говорят о надёжном определении точных совпадений.\n",
    "    \n",
    "- **Confusion matrix:** \n",
    "Основные ошибки: 8 объектов notrel классифицированы как rel_minus, 8 объектов rel_minus — как rel_plus, 3 объекта rel_plus — как rel_minus, 5 объектов rel_plus — как vital. Это подтверждает путаницу между соседними классами (rel_plus/rel_minus, notrel/rel_minus) и смещение к vital.\n",
    "\n",
    "\n",
    "    В целом модель Модель хорошо определяет vital, но путает rel_plus и rel_minus из-за нечётких границ и недооценивает notrel.\n"
   ]
  },
  {
   "cell_type": "code",
   "execution_count": 340,
   "id": "af33daec-9d3d-406b-ac84-a4b96f5bc532",
   "metadata": {},
   "outputs": [
    {
     "name": "stdout",
     "output_type": "stream",
     "text": [
      "Метрики\n",
      "              precision    recall  f1-score   support\n",
      "\n",
      "      notrel       0.89      0.36      0.52        22\n",
      "   rel_minus       0.41      0.75      0.53        16\n",
      "    rel_plus       0.71      0.64      0.68        39\n",
      "       vital       0.81      0.93      0.87        28\n",
      "\n",
      "    accuracy                           0.68       105\n",
      "   macro avg       0.71      0.67      0.65       105\n",
      "weighted avg       0.73      0.68      0.67       105\n",
      "\n"
     ]
    },
    {
     "data": {
      "image/png": "[encoded data removed]",
      "text/plain": [
       "<Figure size 640x480 with 2 Axes>"
      ]
     },
     "metadata": {},
     "output_type": "display_data"
    },
    {
     "name": "stdout",
     "output_type": "stream",
     "text": [
      "Распределение предсказанных классов:\n",
      "predicted\n",
      "rel_plus     35\n",
      "vital        32\n",
      "rel_minus    29\n",
      "notrel        9\n",
      "Name: count, dtype: int64\n"
     ]
    }
   ],
   "source": [
    "print(\"Метрики\")\n",
    "result = pd.read_pickle('prediction_cache_final.pkl')\n",
    "test['key'] = test.apply(lambda row: hashlib.md5(f\"{row['track_name']}_{row['author']}\".encode()).hexdigest(), axis=1)\n",
    "test['predicted'] = test['key'].map(result)\n",
    "\n",
    "print(classification_report(y_test, test['predicted']))\n",
    "\n",
    "# Confusion Matrix\n",
    "cm = confusion_matrix(y_test, test['predicted'], labels=['notrel', 'rel_minus', 'rel_plus', 'vital'])\n",
    "sns.heatmap(cm, annot=True, fmt='d', cmap='Blues', xticklabels=['notrel', 'rel_minus', 'rel_plus', 'vital'], yticklabels=['notrel', 'rel_minus', 'rel_plus', 'vital'])\n",
    "plt.xlabel('Predicted')\n",
    "plt.ylabel('True')\n",
    "plt.title('Confusion Matrix')\n",
    "plt.show()\n",
    "\n",
    "print(\"Распределение предсказанных классов:\")\n",
    "print(test['predicted'].value_counts())"
   ]
  },
  {
   "cell_type": "code",
   "execution_count": 333,
   "id": "5c2497c1-e533-4b69-8099-07ff1066ef0b",
   "metadata": {},
   "outputs": [
    {
     "data": {
      "text/html": [
       "<div>\n",
       "<style scoped>\n",
       "    .dataframe tbody tr th:only-of-type {\n",
       "        vertical-align: middle;\n",
       "    }\n",
       "\n",
       "    .dataframe tbody tr th {\n",
       "        vertical-align: top;\n",
       "    }\n",
       "\n",
       "    .dataframe thead th {\n",
       "        text-align: right;\n",
       "    }\n",
       "</style>\n",
       "<table border=\"1\" class=\"dataframe\">\n",
       "  <thead>\n",
       "    <tr style=\"text-align: right;\">\n",
       "      <th></th>\n",
       "      <th>query</th>\n",
       "      <th>track_name</th>\n",
       "      <th>author</th>\n",
       "      <th>golden_answer</th>\n",
       "      <th>key</th>\n",
       "      <th>predicted</th>\n",
       "    </tr>\n",
       "  </thead>\n",
       "  <tbody>\n",
       "    <tr>\n",
       "      <th>33</th>\n",
       "      <td>цой группа кино</td>\n",
       "      <td>Группа крови</td>\n",
       "      <td>Кино</td>\n",
       "      <td>rel_plus</td>\n",
       "      <td>174e449191d38795101605c0abcd102d</td>\n",
       "      <td>vital</td>\n",
       "    </tr>\n",
       "    <tr>\n",
       "      <th>47</th>\n",
       "      <td>песенка милана</td>\n",
       "      <td>Я МИЛАНА</td>\n",
       "      <td>Milana Star</td>\n",
       "      <td>rel_plus</td>\n",
       "      <td>9dbc26443b8d2dcc492778d5411dfba6</td>\n",
       "      <td>vital</td>\n",
       "    </tr>\n",
       "    <tr>\n",
       "      <th>56</th>\n",
       "      <td>сердючка</td>\n",
       "      <td>Дольче Габбана</td>\n",
       "      <td>Верка Сердючка</td>\n",
       "      <td>rel_plus</td>\n",
       "      <td>46b7006a3f67a406c2f9df8b11307aba</td>\n",
       "      <td>vital</td>\n",
       "    </tr>\n",
       "    <tr>\n",
       "      <th>78</th>\n",
       "      <td>включи сказки на ночь для детей</td>\n",
       "      <td>Сказки на ночь</td>\n",
       "      <td>Ансамбль Детские Песни</td>\n",
       "      <td>rel_plus</td>\n",
       "      <td>b88870131710048fc6987c26d5975b31</td>\n",
       "      <td>vital</td>\n",
       "    </tr>\n",
       "    <tr>\n",
       "      <th>104</th>\n",
       "      <td>цветы для элдж</td>\n",
       "      <td>Цветы для Элджернона</td>\n",
       "      <td>РАССВЕТОВ</td>\n",
       "      <td>rel_plus</td>\n",
       "      <td>b3269981c9c2788d584e1a455f962168</td>\n",
       "      <td>vital</td>\n",
       "    </tr>\n",
       "  </tbody>\n",
       "</table>\n",
       "</div>"
      ],
      "text/plain": [
       "                               query            track_name  \\\n",
       "33                   цой группа кино          Группа крови   \n",
       "47                    песенка милана              Я МИЛАНА   \n",
       "56                          сердючка        Дольче Габбана   \n",
       "78   включи сказки на ночь для детей        Сказки на ночь   \n",
       "104                   цветы для элдж  Цветы для Элджернона   \n",
       "\n",
       "                     author golden_answer                               key  \\\n",
       "33                     Кино      rel_plus  174e449191d38795101605c0abcd102d   \n",
       "47              Milana Star      rel_plus  9dbc26443b8d2dcc492778d5411dfba6   \n",
       "56           Верка Сердючка      rel_plus  46b7006a3f67a406c2f9df8b11307aba   \n",
       "78   Ансамбль Детские Песни      rel_plus  b88870131710048fc6987c26d5975b31   \n",
       "104               РАССВЕТОВ      rel_plus  b3269981c9c2788d584e1a455f962168   \n",
       "\n",
       "    predicted  \n",
       "33      vital  \n",
       "47      vital  \n",
       "56      vital  \n",
       "78      vital  \n",
       "104     vital  "
      ]
     },
     "execution_count": 333,
     "metadata": {},
     "output_type": "execute_result"
    }
   ],
   "source": [
    "# Ошибки, где `rel_plus` классифицирован как `vital`\n",
    "vital_rel_plus = test[(test['predicted'] == 'vital') & (test['golden_answer'] == 'rel_plus')]\n",
    "vital_rel_plus.head()"
   ]
  },
  {
   "cell_type": "code",
   "execution_count": 334,
   "id": "8ba6f23b-6443-457d-887a-21d96924779a",
   "metadata": {},
   "outputs": [
    {
     "data": {
      "text/html": [
       "<div>\n",
       "<style scoped>\n",
       "    .dataframe tbody tr th:only-of-type {\n",
       "        vertical-align: middle;\n",
       "    }\n",
       "\n",
       "    .dataframe tbody tr th {\n",
       "        vertical-align: top;\n",
       "    }\n",
       "\n",
       "    .dataframe thead th {\n",
       "        text-align: right;\n",
       "    }\n",
       "</style>\n",
       "<table border=\"1\" class=\"dataframe\">\n",
       "  <thead>\n",
       "    <tr style=\"text-align: right;\">\n",
       "      <th></th>\n",
       "      <th>query</th>\n",
       "      <th>track_name</th>\n",
       "      <th>author</th>\n",
       "      <th>golden_answer</th>\n",
       "      <th>key</th>\n",
       "      <th>predicted</th>\n",
       "    </tr>\n",
       "  </thead>\n",
       "  <tbody>\n",
       "    <tr>\n",
       "      <th>12</th>\n",
       "      <td>снег падает на всех</td>\n",
       "      <td>Снег падает</td>\n",
       "      <td>Марк Тишман</td>\n",
       "      <td>notrel</td>\n",
       "      <td>9a66a1610ee36bc89c5fe057daf41d32</td>\n",
       "      <td>rel_plus</td>\n",
       "    </tr>\n",
       "    <tr>\n",
       "      <th>15</th>\n",
       "      <td>включи песни мистера кредо</td>\n",
       "      <td>Credo</td>\n",
       "      <td>Mr. DP</td>\n",
       "      <td>notrel</td>\n",
       "      <td>a4251b2a7e865afc2029288d17bac005</td>\n",
       "      <td>rel_minus</td>\n",
       "    </tr>\n",
       "    <tr>\n",
       "      <th>19</th>\n",
       "      <td>включи песню оп мусорок</td>\n",
       "      <td>Мусорок</td>\n",
       "      <td>Александр Новиков</td>\n",
       "      <td>notrel</td>\n",
       "      <td>dfe4442c009c9c15f7e803903b17f6dc</td>\n",
       "      <td>rel_plus</td>\n",
       "    </tr>\n",
       "    <tr>\n",
       "      <th>25</th>\n",
       "      <td>включи страшную песню тили тили бом закрой гла...</td>\n",
       "      <td>Tili Tili Bom</td>\n",
       "      <td>Dani Beats</td>\n",
       "      <td>notrel</td>\n",
       "      <td>f7596e1b3f0a63686d954b2db466410d</td>\n",
       "      <td>rel_plus</td>\n",
       "    </tr>\n",
       "    <tr>\n",
       "      <th>36</th>\n",
       "      <td>а моя любовь живет</td>\n",
       "      <td>Где живёт любовь моя?</td>\n",
       "      <td>Алина Атласова</td>\n",
       "      <td>notrel</td>\n",
       "      <td>07abd409f9d7e4d35f484084769758b4</td>\n",
       "      <td>rel_plus</td>\n",
       "    </tr>\n",
       "  </tbody>\n",
       "</table>\n",
       "</div>"
      ],
      "text/plain": [
       "                                                query             track_name  \\\n",
       "12                                снег падает на всех            Снег падает   \n",
       "15                         включи песни мистера кредо                  Credo   \n",
       "19                            включи песню оп мусорок                Мусорок   \n",
       "25  включи страшную песню тили тили бом закрой гла...          Tili Tili Bom   \n",
       "36                                 а моя любовь живет  Где живёт любовь моя?   \n",
       "\n",
       "               author golden_answer                               key  \\\n",
       "12        Марк Тишман        notrel  9a66a1610ee36bc89c5fe057daf41d32   \n",
       "15             Mr. DP        notrel  a4251b2a7e865afc2029288d17bac005   \n",
       "19  Александр Новиков        notrel  dfe4442c009c9c15f7e803903b17f6dc   \n",
       "25         Dani Beats        notrel  f7596e1b3f0a63686d954b2db466410d   \n",
       "36     Алина Атласова        notrel  07abd409f9d7e4d35f484084769758b4   \n",
       "\n",
       "    predicted  \n",
       "12   rel_plus  \n",
       "15  rel_minus  \n",
       "19   rel_plus  \n",
       "25   rel_plus  \n",
       "36   rel_plus  "
      ]
     },
     "execution_count": 334,
     "metadata": {},
     "output_type": "execute_result"
    }
   ],
   "source": [
    "# Ошибки, где `notrel` классифицирован как другой класс\n",
    "test[(test['golden_answer'] == 'notrel') & (test['predicted'] != 'notrel')].head()"
   ]
  },
  {
   "cell_type": "code",
   "execution_count": 335,
   "id": "987c141e-0405-49af-be6e-bb9e65f2ed4c",
   "metadata": {
    "scrolled": true
   },
   "outputs": [
    {
     "data": {
      "text/html": [
       "<div>\n",
       "<style scoped>\n",
       "    .dataframe tbody tr th:only-of-type {\n",
       "        vertical-align: middle;\n",
       "    }\n",
       "\n",
       "    .dataframe tbody tr th {\n",
       "        vertical-align: top;\n",
       "    }\n",
       "\n",
       "    .dataframe thead th {\n",
       "        text-align: right;\n",
       "    }\n",
       "</style>\n",
       "<table border=\"1\" class=\"dataframe\">\n",
       "  <thead>\n",
       "    <tr style=\"text-align: right;\">\n",
       "      <th></th>\n",
       "      <th>query</th>\n",
       "      <th>track_name</th>\n",
       "      <th>author</th>\n",
       "      <th>golden_answer</th>\n",
       "      <th>key</th>\n",
       "      <th>predicted</th>\n",
       "    </tr>\n",
       "  </thead>\n",
       "  <tbody>\n",
       "    <tr>\n",
       "      <th>5</th>\n",
       "      <td>поставь клаву коку</td>\n",
       "      <td>РОЗОВАЯ ЛУНА</td>\n",
       "      <td>Клава Кока,Джарахов,SQWOZ BAB</td>\n",
       "      <td>rel_minus</td>\n",
       "      <td>45104d4e1f8b9c4474b2ed15e2c1f0b5</td>\n",
       "      <td>rel_plus</td>\n",
       "    </tr>\n",
       "    <tr>\n",
       "      <th>13</th>\n",
       "      <td>орбак</td>\n",
       "      <td>Fi Orbak</td>\n",
       "      <td>Mayez El Bayaa</td>\n",
       "      <td>rel_minus</td>\n",
       "      <td>9e1e4dff3367e3dc8cb34ca9d15961dd</td>\n",
       "      <td>rel_plus</td>\n",
       "    </tr>\n",
       "    <tr>\n",
       "      <th>95</th>\n",
       "      <td>титаник музыка</td>\n",
       "      <td>На Титанике</td>\n",
       "      <td>Лолита,INSTASAMKA</td>\n",
       "      <td>rel_minus</td>\n",
       "      <td>7a2b5ae63f63c860173d020d0a107d66</td>\n",
       "      <td>rel_plus</td>\n",
       "    </tr>\n",
       "  </tbody>\n",
       "</table>\n",
       "</div>"
      ],
      "text/plain": [
       "                 query    track_name                         author  \\\n",
       "5   поставь клаву коку  РОЗОВАЯ ЛУНА  Клава Кока,Джарахов,SQWOZ BAB   \n",
       "13               орбак      Fi Orbak                 Mayez El Bayaa   \n",
       "95      титаник музыка   На Титанике              Лолита,INSTASAMKA   \n",
       "\n",
       "   golden_answer                               key predicted  \n",
       "5      rel_minus  45104d4e1f8b9c4474b2ed15e2c1f0b5  rel_plus  \n",
       "13     rel_minus  9e1e4dff3367e3dc8cb34ca9d15961dd  rel_plus  \n",
       "95     rel_minus  7a2b5ae63f63c860173d020d0a107d66  rel_plus  "
      ]
     },
     "execution_count": 335,
     "metadata": {},
     "output_type": "execute_result"
    }
   ],
   "source": [
    "# Ошибки, где `rel_minus` классифицирован как `rel_plus`\n",
    "test[(test['golden_answer'] == 'rel_minus') & (test['predicted'] == 'rel_plus')].head()"
   ]
  },
  {
   "cell_type": "code",
   "execution_count": 336,
   "id": "62cd0999-f985-4dc8-a286-bc8c8381d51d",
   "metadata": {},
   "outputs": [
    {
     "data": {
      "text/html": [
       "<div>\n",
       "<style scoped>\n",
       "    .dataframe tbody tr th:only-of-type {\n",
       "        vertical-align: middle;\n",
       "    }\n",
       "\n",
       "    .dataframe tbody tr th {\n",
       "        vertical-align: top;\n",
       "    }\n",
       "\n",
       "    .dataframe thead th {\n",
       "        text-align: right;\n",
       "    }\n",
       "</style>\n",
       "<table border=\"1\" class=\"dataframe\">\n",
       "  <thead>\n",
       "    <tr style=\"text-align: right;\">\n",
       "      <th></th>\n",
       "      <th>query</th>\n",
       "      <th>track_name</th>\n",
       "      <th>author</th>\n",
       "      <th>golden_answer</th>\n",
       "      <th>key</th>\n",
       "      <th>predicted</th>\n",
       "    </tr>\n",
       "  </thead>\n",
       "  <tbody>\n",
       "    <tr>\n",
       "      <th>16</th>\n",
       "      <td>дворовые песни восьмидесятых</td>\n",
       "      <td>Хиты 80-х</td>\n",
       "      <td>Музыка В Машину,Танцевальная музыка,Дискотека ...</td>\n",
       "      <td>rel_plus</td>\n",
       "      <td>3dd98226a3e7ea27e1cd366a122f6f31</td>\n",
       "      <td>rel_minus</td>\n",
       "    </tr>\n",
       "    <tr>\n",
       "      <th>30</th>\n",
       "      <td>включи песню луна</td>\n",
       "      <td>ЛУНА</td>\n",
       "      <td>SHAMAN</td>\n",
       "      <td>rel_plus</td>\n",
       "      <td>f46754acf03c5f3a1616a90af0a558ac</td>\n",
       "      <td>rel_minus</td>\n",
       "    </tr>\n",
       "    <tr>\n",
       "      <th>31</th>\n",
       "      <td>полный концерт группы пикник</td>\n",
       "      <td>Пикник</td>\n",
       "      <td>Пикник</td>\n",
       "      <td>rel_plus</td>\n",
       "      <td>483e99e69d46fdffa4236d92b4a8846e</td>\n",
       "      <td>rel_minus</td>\n",
       "    </tr>\n",
       "    <tr>\n",
       "      <th>44</th>\n",
       "      <td>песня тонкая рябина</td>\n",
       "      <td>Тонкая рябина</td>\n",
       "      <td>Людмила Зыкина</td>\n",
       "      <td>rel_plus</td>\n",
       "      <td>914f23d6d1b5e0e2276a3ac75f7d8d10</td>\n",
       "      <td>rel_minus</td>\n",
       "    </tr>\n",
       "    <tr>\n",
       "      <th>49</th>\n",
       "      <td>маша и медведь песню</td>\n",
       "      <td>Барабашка</td>\n",
       "      <td>Маша и Медведь</td>\n",
       "      <td>rel_plus</td>\n",
       "      <td>2eff1fdde45612d4e75d06c32d2ed680</td>\n",
       "      <td>rel_minus</td>\n",
       "    </tr>\n",
       "  </tbody>\n",
       "</table>\n",
       "</div>"
      ],
      "text/plain": [
       "                           query     track_name  \\\n",
       "16  дворовые песни восьмидесятых      Хиты 80-х   \n",
       "30             включи песню луна           ЛУНА   \n",
       "31  полный концерт группы пикник         Пикник   \n",
       "44           песня тонкая рябина  Тонкая рябина   \n",
       "49          маша и медведь песню      Барабашка   \n",
       "\n",
       "                                               author golden_answer  \\\n",
       "16  Музыка В Машину,Танцевальная музыка,Дискотека ...      rel_plus   \n",
       "30                                             SHAMAN      rel_plus   \n",
       "31                                             Пикник      rel_plus   \n",
       "44                                     Людмила Зыкина      rel_plus   \n",
       "49                                     Маша и Медведь      rel_plus   \n",
       "\n",
       "                                 key  predicted  \n",
       "16  3dd98226a3e7ea27e1cd366a122f6f31  rel_minus  \n",
       "30  f46754acf03c5f3a1616a90af0a558ac  rel_minus  \n",
       "31  483e99e69d46fdffa4236d92b4a8846e  rel_minus  \n",
       "44  914f23d6d1b5e0e2276a3ac75f7d8d10  rel_minus  \n",
       "49  2eff1fdde45612d4e75d06c32d2ed680  rel_minus  "
      ]
     },
     "execution_count": 336,
     "metadata": {},
     "output_type": "execute_result"
    }
   ],
   "source": [
    "# Ошибки, где `rel_plus` классифицирован как `rel_minus`\n",
    "test[(test['golden_answer'] == 'rel_plus') & (test['predicted'] == 'rel_minus')].head()"
   ]
  },
  {
   "cell_type": "markdown",
   "id": "240b9330-e4de-47eb-a6aa-325bbdcd13f7",
   "metadata": {},
   "source": [
    "# **<span style=\"background-color: #fff69d\">Как направить результат</span>**\n",
    "\n",
    "В ответе от вас мы ожидаем:\n",
    "\n",
    "- Текущий файл в формате `.ipynb` (перед отправкой, пожалуйста, удалите любые credentials).\n",
    "- Финальный файл, содержащий `user_prompt` и ответ модели.\n",
    "   \n",
    "В разделе <span style=\"background-color: #fff69d\">Разработка промпта и генерации</span>:\n",
    "Пожалуйста, оставьте итоговые `system_prompt` и `user_prompt`.\n",
    "\n",
    "В разделе <span style=\"background-color: #fff69d\">Метрики</span>:\n",
    "Опишите выбранные метрики и объясните, почему именно они были выбраны. Обязательно добавьте интерпретацию результатов для более глубокого понимания.\n",
    "\n",
    "---\n",
    "\n",
    "Оба файла нужно разместить в одной папке, архивировать её в `.zip`, указав вашу фамилию в названии архива, и прислать нам.\n",
    "\n",
    "---\n",
    "\n",
    "# **<span style=\"background-color: #fff69d\">ВАЖНО</span>**\n",
    "Вы можете менять примеры кода, представленные в этом ноутбуке, дополнять их. Допускается использование любых дополнительных инструментов и библиотек для решения задачи, если это необходимо."
   ]
  },
  {
   "cell_type": "code",
   "execution_count": null,
   "id": "a3b120c0-bcab-4a22-b939-4613303234ba",
   "metadata": {},
   "outputs": [],
   "source": []
  }
 ],
 "metadata": {
  "kernelspec": {
   "display_name": "Python (venv_gigachat)",
   "language": "python",
   "name": "venv_gigachat"
  },
  "language_info": {
   "codemirror_mode": {
    "name": "ipython",
    "version": 3
   },
   "file_extension": ".py",
   "mimetype": "text/x-python",
   "name": "python",
   "nbconvert_exporter": "python",
   "pygments_lexer": "ipython3",
   "version": "3.9.13"
  }
 },
 "nbformat": 4,
 "nbformat_minor": 5
}
